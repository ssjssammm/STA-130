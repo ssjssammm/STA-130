{
 "cells": [
  {
   "cell_type": "markdown",
   "id": "a07b3979",
   "metadata": {},
   "source": [
    "→ How does the nature of concerns during health checkups and the depth of the concern and analysis impact the patient’s  likelihood of return  and/or frequency of visitation to their healthcare providers (2 levels of depth 1: being asked about the topic, 2: being given advice about the topic)\n",
    "→ Variables:\n",
    "When was the last time you visited a healthcare provider?\n",
    "Do you have a primary healthcare provider?\n",
    "Last time you visited a healthcare provider, did they: [Ask you about using alcohol, tobacco, or other drugs], [Ask you about your diet], [Ask you about physical activity]\n",
    "Last time you visited a healthcare provider, did they: [Give you advice about your substance use (e.g., smoking, alcohol consumption)], [Give you advice about nutrition or diet], [Give you advice about physical activity]\n",
    "Scatterplot: looking at the number of people asked about certain health topics and number of people that were given advice on that topic vs the length of time since their last appointment.\n",
    "Normal distribution curves: Comparing the distribution of average time between appointments for each health discussion.\n",
    "→ Analysis: Linear regression\n",
    "\tSince I am examining how the nature of health concerns impacts the patient's frequency of visiting a healthcare provider, I will be looking at the effects that the topics asked about and the medical advice given impacted the amount of time between the patient's last appointment.\n",
    "→ Hypothesis:\n",
    "The hypothesis would be that people who have had specific healthcare topics drawn to their attention might have a longer time between their last visit when compared to people who did not. \n",
    "People who were given advice will have an even longer time between appointments than those who were not talked to about specific concerns.\n"
   ]
  },
  {
   "cell_type": "markdown",
   "id": "903412bb",
   "metadata": {},
   "source": [
    "→ How does the amount of time an individual would like to spend socializing with specific categories of people (coworkers, strangers) impact their likelihood of following  COVID-19 Guidelines (social distancing and wearing masks)?\n",
    "→ Variables: How much time per week would you like to spend socializing with others from the following groups? [coworkers], [strangers], To what extent are you currently following the COVID-19 prevention practices listed below? [wear a mask in public], [Physically distance yourself by 2 metres from others] These variables were chosen to directly compare desired socializing time with likelihood to wear masks and to isolate (since these were the covid restrictions that most limited interaction).\n",
    "Box plot: Likelihood will be represented by the ordinal value 1-4, socializing time on the x-axis and likelihood on the y-axis.\n",
    "→ Analysis: cross-sectional comparisons: I will group the participants by likelihood of following COVID-19 guidelines, for each group, and calculate the mean of socialization times for each category. \n",
    "→ Hypothesis: Individuals who indicated would like to spend more time socializing with strangers and coworkers are going to follow COVID-19 guidelines less strictly than those who indicated that they would like to spend less time socializing with strangers.\n"
   ]
  },
  {
   "cell_type": "markdown",
   "id": "1270fee9",
   "metadata": {},
   "source": [
    "→ How do wealth and connections influence the number of close friends an individual has?\n",
    "→ Variables: Please rate how strongly you agree or disagree with each of the following statements. [I have business connections], [I come from a wealthy background], how many close friends do you have? I chose these variables because I wanted to analyze if there is a direct association between the number of friends that an individual has, and their level of access to opportunities.\n",
    "Grouped bar charts: for each wealth and connections category, the height of the bars will represent the number of close friends the individuals have.\n",
    "→ Analysis: Normal distribution: I can divide each level of agreement into its category and measure the mean number of close friends people have within these categories.\n",
    "→ Hypothesis: Individuals that agree most strongly with being wealthy and having business connections might have more close friends.\n"
   ]
  }
 ],
 "metadata": {
  "kernelspec": {
   "display_name": "Python 3 (ipykernel)",
   "language": "python",
   "name": "python3"
  },
  "language_info": {
   "codemirror_mode": {
    "name": "ipython",
    "version": 3
   },
   "file_extension": ".py",
   "mimetype": "text/x-python",
   "name": "python",
   "nbconvert_exporter": "python",
   "pygments_lexer": "ipython3",
   "version": "3.11.6"
  }
 },
 "nbformat": 4,
 "nbformat_minor": 5
}
